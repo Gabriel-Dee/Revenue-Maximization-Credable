{
 "cells": [
  {
   "cell_type": "code",
   "execution_count": 5,
   "id": "330e763d-1046-4e25-a02f-ef94650104be",
   "metadata": {
    "tags": []
   },
   "outputs": [
    {
     "name": "stdout",
     "output_type": "stream",
     "text": [
      "VT Upgrade Eligibility for 0 cash loans purchased: 0.57\n",
      "VT Upgrade Eligibility for 5 cash loans purchased: 0.6699999999999999\n"
     ]
    }
   ],
   "source": [
    "import pandas as pd\n",
    "import numpy as np\n",
    "\n",
    "# Load sales volume data\n",
    "sales_data = {\n",
    "    'Month': pd.date_range(start='2019-01-31', end='2023-12-31', freq='M'),\n",
    "    'Volume': [10000, 10200, 10404, 10612, 10824, 11041, 11262, 11487, 11717, 11951, 12190, 12434, \n",
    "               12682, 12936, 13195, 13459, 13728, 14002, 14282, 14568, 14859, 15157, 15460, 15769,\n",
    "               16084, 16406, 16734, 17069, 17410, 17758, 18114, 18476, 18845, 19222, 19607, 19999,\n",
    "               20399, 20807, 21223, 21647, 22080, 22522, 22972, 23432, 23901, 24379, 24866, 25363,\n",
    "               25871, 26388, 26916, 27454, 28003, 28563, 29135, 29717, 30312, 30918, 31536, 32167]\n",
    "}\n",
    "sales_df = pd.DataFrame(sales_data)\n",
    "\n",
    "# Assumptions\n",
    "discount_rate = 0.51  # Annual discount rate\n",
    "cash_loan_profit = 25  # Profit from cash loans\n",
    "vt_upgrade_profit = 150  # Profit from VT upgrades\n",
    "cash_loan_eligibility_rate = 0.9  # Eligibility rate for cash loans\n",
    "vt_upgrade_eligibility_base_rate = 0.57  # Base eligibility rate for VT upgrades\n",
    "vt_upgrade_eligibility_decrease_rate = 0.02  # Decrease rate for VT upgrade eligibility per cash loan\n",
    "\n",
    "# Function to calculate eligibility for VT upgrades based on cash loans purchased\n",
    "def calculate_vt_upgrade_eligibility(cash_loans_purchased):\n",
    "    return max(vt_upgrade_eligibility_base_rate + vt_upgrade_eligibility_decrease_rate * cash_loans_purchased, 0)\n",
    "\n",
    "# Sample calculation for VT upgrade eligibility\n",
    "print(\"VT Upgrade Eligibility for 0 cash loans purchased:\", calculate_vt_upgrade_eligibility(0))\n",
    "print(\"VT Upgrade Eligibility for 5 cash loans purchased:\", calculate_vt_upgrade_eligibility(5))"
   ]
  },
  {
   "cell_type": "code",
   "execution_count": 11,
   "id": "645c7b7a-6d9d-4984-92d0-b215acb1d615",
   "metadata": {
    "tags": []
   },
   "outputs": [
    {
     "name": "stdout",
     "output_type": "stream",
     "text": [
      "Eligibility for Cash Loans: 0.9\n",
      "Eligibility for VT Upgrades with 5 Cash Loans Purchased: 0.6699999999999999\n"
     ]
    }
   ],
   "source": [
    "# Calculate eligibility for cash loans (based on fixed rate)\n",
    "def calculate_cash_loan_eligibility():\n",
    "    return cash_loan_eligibility_rate\n",
    "\n",
    "# Calculate eligibility for VT upgrades based on the number of cash loans purchased\n",
    "def calculate_vt_upgrade_eligibility(cash_loans_purchased):\n",
    "    return min(vt_upgrade_eligibility_base_rate + vt_upgrade_eligibility_decrease_rate * cash_loans_purchased, 1)\n",
    "\n",
    "# Example usage:\n",
    "cash_loan_eligibility = calculate_cash_loan_eligibility()\n",
    "vt_upgrade_eligibility_5_loans = calculate_vt_upgrade_eligibility(5)\n",
    "\n",
    "print(\"Eligibility for Cash Loans:\", cash_loan_eligibility)\n",
    "print(\"Eligibility for VT Upgrades with 5 Cash Loans Purchased:\", vt_upgrade_eligibility_5_loans)\n"
   ]
  },
  {
   "cell_type": "code",
   "execution_count": 13,
   "id": "c88b2f9f-2ccc-41cd-b475-50ae19fd472e",
   "metadata": {
    "tags": []
   },
   "outputs": [
    {
     "ename": "IndexError",
     "evalue": "single positional indexer is out-of-bounds",
     "output_type": "error",
     "traceback": [
      "\u001b[0;31m---------------------------------------------------------------------------\u001b[0m",
      "\u001b[0;31mIndexError\u001b[0m                                Traceback (most recent call last)",
      "Cell \u001b[0;32mIn[13], line 9\u001b[0m\n\u001b[1;32m      6\u001b[0m     \u001b[38;5;28;01mreturn\u001b[39;00m finished_payments\n\u001b[1;32m      8\u001b[0m \u001b[38;5;66;03m# Example usage:\u001b[39;00m\n\u001b[0;32m----> 9\u001b[0m finished_payments_2023 \u001b[38;5;241m=\u001b[39m forecast_finished_payments()\n\u001b[1;32m     10\u001b[0m \u001b[38;5;28mprint\u001b[39m(\u001b[38;5;124m\"\u001b[39m\u001b[38;5;124mExpected Finished Payments for Each Month in 2023:\u001b[39m\u001b[38;5;124m\"\u001b[39m, finished_payments_2023)\n",
      "Cell \u001b[0;32mIn[13], line 5\u001b[0m, in \u001b[0;36mforecast_finished_payments\u001b[0;34m()\u001b[0m\n\u001b[1;32m      3\u001b[0m finished_payments \u001b[38;5;241m=\u001b[39m []\n\u001b[1;32m      4\u001b[0m \u001b[38;5;28;01mfor\u001b[39;00m month \u001b[38;5;129;01min\u001b[39;00m \u001b[38;5;28mrange\u001b[39m(\u001b[38;5;241m1\u001b[39m, \u001b[38;5;241m13\u001b[39m):\n\u001b[0;32m----> 5\u001b[0m     finished_payments\u001b[38;5;241m.\u001b[39mappend(sales_df[\u001b[38;5;124m'\u001b[39m\u001b[38;5;124mVolume\u001b[39m\u001b[38;5;124m'\u001b[39m]\u001b[38;5;241m.\u001b[39miloc[month \u001b[38;5;241m*\u001b[39m \u001b[38;5;241m12\u001b[39m \u001b[38;5;241m-\u001b[39m \u001b[38;5;241m1\u001b[39m] \u001b[38;5;241m*\u001b[39m \u001b[38;5;241m0.9\u001b[39m)  \u001b[38;5;66;03m# Assuming 90% of sales result in finished payments\u001b[39;00m\n\u001b[1;32m      6\u001b[0m \u001b[38;5;28;01mreturn\u001b[39;00m finished_payments\n",
      "File \u001b[0;32m~/anaconda3/lib/python3.11/site-packages/pandas/core/indexing.py:1103\u001b[0m, in \u001b[0;36m_LocationIndexer.__getitem__\u001b[0;34m(self, key)\u001b[0m\n\u001b[1;32m   1100\u001b[0m axis \u001b[38;5;241m=\u001b[39m \u001b[38;5;28mself\u001b[39m\u001b[38;5;241m.\u001b[39maxis \u001b[38;5;129;01mor\u001b[39;00m \u001b[38;5;241m0\u001b[39m\n\u001b[1;32m   1102\u001b[0m maybe_callable \u001b[38;5;241m=\u001b[39m com\u001b[38;5;241m.\u001b[39mapply_if_callable(key, \u001b[38;5;28mself\u001b[39m\u001b[38;5;241m.\u001b[39mobj)\n\u001b[0;32m-> 1103\u001b[0m \u001b[38;5;28;01mreturn\u001b[39;00m \u001b[38;5;28mself\u001b[39m\u001b[38;5;241m.\u001b[39m_getitem_axis(maybe_callable, axis\u001b[38;5;241m=\u001b[39maxis)\n",
      "File \u001b[0;32m~/anaconda3/lib/python3.11/site-packages/pandas/core/indexing.py:1656\u001b[0m, in \u001b[0;36m_iLocIndexer._getitem_axis\u001b[0;34m(self, key, axis)\u001b[0m\n\u001b[1;32m   1653\u001b[0m     \u001b[38;5;28;01mraise\u001b[39;00m \u001b[38;5;167;01mTypeError\u001b[39;00m(\u001b[38;5;124m\"\u001b[39m\u001b[38;5;124mCannot index by location index with a non-integer key\u001b[39m\u001b[38;5;124m\"\u001b[39m)\n\u001b[1;32m   1655\u001b[0m \u001b[38;5;66;03m# validate the location\u001b[39;00m\n\u001b[0;32m-> 1656\u001b[0m \u001b[38;5;28mself\u001b[39m\u001b[38;5;241m.\u001b[39m_validate_integer(key, axis)\n\u001b[1;32m   1658\u001b[0m \u001b[38;5;28;01mreturn\u001b[39;00m \u001b[38;5;28mself\u001b[39m\u001b[38;5;241m.\u001b[39mobj\u001b[38;5;241m.\u001b[39m_ixs(key, axis\u001b[38;5;241m=\u001b[39maxis)\n",
      "File \u001b[0;32m~/anaconda3/lib/python3.11/site-packages/pandas/core/indexing.py:1589\u001b[0m, in \u001b[0;36m_iLocIndexer._validate_integer\u001b[0;34m(self, key, axis)\u001b[0m\n\u001b[1;32m   1587\u001b[0m len_axis \u001b[38;5;241m=\u001b[39m \u001b[38;5;28mlen\u001b[39m(\u001b[38;5;28mself\u001b[39m\u001b[38;5;241m.\u001b[39mobj\u001b[38;5;241m.\u001b[39m_get_axis(axis))\n\u001b[1;32m   1588\u001b[0m \u001b[38;5;28;01mif\u001b[39;00m key \u001b[38;5;241m>\u001b[39m\u001b[38;5;241m=\u001b[39m len_axis \u001b[38;5;129;01mor\u001b[39;00m key \u001b[38;5;241m<\u001b[39m \u001b[38;5;241m-\u001b[39mlen_axis:\n\u001b[0;32m-> 1589\u001b[0m     \u001b[38;5;28;01mraise\u001b[39;00m \u001b[38;5;167;01mIndexError\u001b[39;00m(\u001b[38;5;124m\"\u001b[39m\u001b[38;5;124msingle positional indexer is out-of-bounds\u001b[39m\u001b[38;5;124m\"\u001b[39m)\n",
      "\u001b[0;31mIndexError\u001b[0m: single positional indexer is out-of-bounds"
     ]
    }
   ],
   "source": [
    "# Calculate expected finished payments for each month in 2023\n",
    "def forecast_finished_payments():\n",
    "    finished_payments = []\n",
    "    for month in range(1, 13):\n",
    "        finished_payments.append(sales_df['Volume'].iloc[month * 12 - 1] * 0.9)  # Assuming 90% of sales result in finished payments\n",
    "    return finished_payments\n",
    "\n",
    "# Example usage:\n",
    "finished_payments_2023 = forecast_finished_payments()\n",
    "print(\"Expected Finished Payments for Each Month in 2023:\", finished_payments_2023)\n"
   ]
  },
  {
   "cell_type": "code",
   "execution_count": null,
   "id": "877dd5db-0ca1-4861-a13a-fabb61a2399e",
   "metadata": {},
   "outputs": [],
   "source": []
  }
 ],
 "metadata": {
  "kernelspec": {
   "display_name": "Python 3 (ipykernel)",
   "language": "python",
   "name": "python3"
  },
  "language_info": {
   "codemirror_mode": {
    "name": "ipython",
    "version": 3
   },
   "file_extension": ".py",
   "mimetype": "text/x-python",
   "name": "python",
   "nbconvert_exporter": "python",
   "pygments_lexer": "ipython3",
   "version": "3.11.5"
  }
 },
 "nbformat": 4,
 "nbformat_minor": 5
}
